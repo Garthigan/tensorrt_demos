{
 "cells": [
  {
   "cell_type": "code",
   "execution_count": 1,
   "id": "b6c09ae0-715c-4f87-af15-606ff6c8471d",
   "metadata": {},
   "outputs": [
    {
     "name": "stdout",
     "output_type": "stream",
     "text": [
      "168210328739238\n"
     ]
    }
   ],
   "source": [
    "import uuid\n",
    "mac_adderss = uuid.getnode()\n",
    "print(mac_adderss)"
   ]
  },
  {
   "cell_type": "code",
   "execution_count": 2,
   "id": "e685d79d-9f24-4dfa-9306-0e9555367c41",
   "metadata": {},
   "outputs": [
    {
     "name": "stdout",
     "output_type": "stream",
     "text": [
      "Click on the image to add points. Right-click to remove the last point. Press 'c' to clear points or 'q' to finish.\n",
      "Polygon coordinates:\n",
      "(31, 3)\n",
      "(182, 360)\n",
      "(835, 335)\n",
      "(919, 7)\n"
     ]
    }
   ],
   "source": [
    "\n",
    "# add pints to the image\n",
    "\n",
    "\n",
    "import cv2\n",
    "\n",
    "sample_image_path = 'sample.png'\n",
    "# Initialize the image and the list of points\n",
    "image = cv2.imread(sample_image_path)  # Load your image\n",
    "points = []\n",
    "\n",
    "# Callback function for mouse events\n",
    "def click_event(event, x, y, flags, param):\n",
    "    global points, image\n",
    "    if event == cv2.EVENT_LBUTTONDOWN:\n",
    "        if len(points) > 0:\n",
    "            cv2.line(image, points[-1], (x, y), (0, 255, 0), 2)  # Draw a line from the last point to the current point\n",
    "        cv2.circle(image, (x, y), 5, (0, 0, 255), -1)  # Draw a point on the image\n",
    "        points.append((x, y))  # Store the point coordinates\n",
    "        cv2.imshow('Image', image)\n",
    "    elif event == cv2.EVENT_RBUTTONDOWN and len(points) > 0:  # Right-click to remove the last point\n",
    "        points.pop()  # Remove the last point\n",
    "        image = cv2.imread(sample_image_path)  # Clear the image\n",
    "        for i in range(len(points) - 1):\n",
    "            cv2.line(image, points[i], points[i + 1], (0, 255, 0), 2)  # Redraw the lines\n",
    "            cv2.circle(image, points[i], 5, (0, 0, 255), -1)  # Redraw the remaining points\n",
    "        cv2.imshow('Image', image)\n",
    "\n",
    "# Create an OpenCV window and set the mouse callback function\n",
    "cv2.imshow('Image', image)\n",
    "cv2.setMouseCallback('Image', click_event)\n",
    "\n",
    "print(\"Click on the image to add points. Right-click to remove the last point. Press 'c' to clear points or 'q' to finish.\")\n",
    "while True:\n",
    "    key = cv2.waitKey(1) & 0xFF\n",
    "    if key == ord('c'):\n",
    "        image = cv2.imread(sample_image_path)  # Clear points\n",
    "        points = []\n",
    "        cv2.imshow('Image', image)\n",
    "    elif key == ord('q'):\n",
    "        break\n",
    "\n",
    "\n",
    "# Print the coordinates of the polygon\n",
    "print(\"Polygon coordinates:\")\n",
    "for point in points:\n",
    "    print(point)\n",
    "\n",
    "cv2.waitKey(0)\n",
    "cv2.destroyAllWindows()"
   ]
  },
  {
   "cell_type": "code",
   "execution_count": null,
   "id": "0291a17f-4766-4545-9e5c-688ab061e0ca",
   "metadata": {},
   "outputs": [],
   "source": [
    "\n",
    "\n",
    "\n"
   ]
  },
  {
   "cell_type": "code",
   "execution_count": 21,
   "id": "d272d421-fbca-4e0a-8bff-fd78d7b6d66d",
   "metadata": {},
   "outputs": [
    {
     "name": "stdout",
     "output_type": "stream",
     "text": [
      "Error: Could not open video file.\n",
      "frame width:  0 frame height:  0\n"
     ]
    }
   ],
   "source": [
    "import cv2\n",
    "\n",
    "# Open the video file\n",
    "cam_link_424 = \"rtsp://admin:11@10.10.161.153:/live/video_audio/ch09_ch09\"\n",
    "\n",
    "#video_capture = cv2.VideoCapture('456.avi')  # Replace 'your_video.mp4' with the path to your video file\n",
    "video_capture = cv2.VideoCapture(cam_link_424)\n",
    "\n",
    "\n",
    "# Check if the video file was opened successfully\n",
    "if not video_capture.isOpened():\n",
    "    print(\"Error: Could not open video file.\")\n",
    "    exit()\n",
    "width = int(video_capture.get(cv2.CAP_PROP_FRAME_WIDTH))\n",
    "height = int(video_capture.get(cv2.CAP_PROP_FRAME_HEIGHT))\n",
    "print(\"frame width: \" , width,  \"frame height: \" , height)\n",
    "\n",
    "while True:\n",
    "    # Read a frame from the video\n",
    "    ret, frame = video_capture.read()\n",
    "\n",
    "    # Check if the video has ended\n",
    "    if not ret:\n",
    "        break\n",
    "    # Display the frame (you can also process it here)\n",
    "    cv2.imshow('Video Frame', frame)\n",
    "\n",
    "    # Break the loop if the 'q' key is pressed\n",
    "    if cv2.waitKey(1) & 0xFF == ord('q'):\n",
    "        break\n",
    "\n",
    "# Release the video capture object and close the OpenCV window\n",
    "video_capture.release()\n",
    "cv2.destroyAllWindows()"
   ]
  },
  {
   "cell_type": "code",
   "execution_count": null,
   "id": "ffaffed5-7aee-46e1-b9e0-2106f947407a",
   "metadata": {},
   "outputs": [],
   "source": [
    "import cv2\n",
    "\n",
    "\n",
    "class RTSVideoCapture:\n",
    "    # Global exp_thread\n",
    "    def __init__(self, name):\n",
    "        self.name = name\n",
    "        self.cap = cv2.VideoCapture(name)\n",
    "        self.q = queue.Queue()\n",
    "        self.stop_thread = False\n",
    "        t = threading.Thread(target=self._reader)\n",
    "        t.daemon = True\n",
    "        t.start()\n",
    "\n",
    "    # Read frames as soon as they are available, keeping only most recent one\n",
    "    def _reader(self):\n",
    "        while True:\n",
    "            ret, frame = self.cap.read()\n",
    "            if not ret:\n",
    "                self.cap = cv2.VideoCapture(self.name)\n",
    "\n",
    "            if not self.q.empty():\n",
    "                try:\n",
    "                    # Discard previous (unprocessed) frame\n",
    "                    self.q.get_nowait()\n",
    "                except queue.Empty:\n",
    "                    pass\n",
    "            self.q.put(frame)\n",
    "\n",
    "    def read(self):\n",
    "        if self.q.empty():\n",
    "            return None\n",
    "        return self.q.get()\n",
    "\n",
    "    def stop(self):\n",
    "        self.cap.release()\n",
    "        self.stop_thread = True\n",
    "\n",
    "\n",
    "# Open the video file\n",
    "cam_link_424 = \"rtsp://admin:11@10.10.161.153:/live/video_audio/ch09_ch09\"\n",
    "\n",
    "#video_capture = cv2.VideoCapture('456.avi')  # Replace 'your_video.mp4' with the path to your video file\n",
    "video_capture = RTSVideoCapture(int(cam_link_424))\n",
    "# Check if the video file was opened successfully\n",
    "if not video_capture.isOpened():\n",
    "    print(\"Error: Could not open video file.\")\n",
    "    exit()\n",
    "\n",
    "while True:\n",
    "    \n",
    "    # Read a frame from the video\n",
    "    frame = video_capture.read()\n",
    "    print(\"reading the frame\")\n",
    "    # Break the loop if the 'q' key is pressed\n",
    "    if cv2.waitKey(1) & 0xFF == ord('q'):\n",
    "        break\n",
    "\n",
    "# Release the video capture object and close the OpenCV window\n",
    "video_capture.release()"
   ]
  },
  {
   "cell_type": "code",
   "execution_count": 2,
   "id": "ec183502-c8ac-443f-a679-499ecc7f0008",
   "metadata": {},
   "outputs": [],
   "source": [
    "import cv2\n",
    "img_name = \"424.jpg\" \n",
    "img = cv2.imread(img_name)\n",
    "h, w = img.shape[:2]"
   ]
  },
  {
   "cell_type": "code",
   "execution_count": 3,
   "id": "81268e70-19c0-40f9-9fca-df6da37f8264",
   "metadata": {},
   "outputs": [
    {
     "data": {
      "text/plain": [
       "900"
      ]
     },
     "execution_count": 3,
     "metadata": {},
     "output_type": "execute_result"
    }
   ],
   "source": [
    "h"
   ]
  },
  {
   "cell_type": "code",
   "execution_count": 4,
   "id": "6e83110c-0275-4aa4-9514-91d267efb618",
   "metadata": {},
   "outputs": [
    {
     "data": {
      "text/plain": [
       "1600"
      ]
     },
     "execution_count": 4,
     "metadata": {},
     "output_type": "execute_result"
    }
   ],
   "source": [
    "w"
   ]
  },
  {
   "cell_type": "code",
   "execution_count": null,
   "id": "83b95477-ca01-48b1-a5db-373235a4e6ed",
   "metadata": {},
   "outputs": [],
   "source": []
  }
 ],
 "metadata": {
  "kernelspec": {
   "display_name": "Python 3 (ipykernel)",
   "language": "python",
   "name": "python3"
  },
  "language_info": {
   "codemirror_mode": {
    "name": "ipython",
    "version": 3
   },
   "file_extension": ".py",
   "mimetype": "text/x-python",
   "name": "python",
   "nbconvert_exporter": "python",
   "pygments_lexer": "ipython3",
   "version": "3.10.11"
  }
 },
 "nbformat": 4,
 "nbformat_minor": 5
}
